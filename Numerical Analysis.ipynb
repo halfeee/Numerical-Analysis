{
 "cells": [
  {
   "cell_type": "markdown",
   "metadata": {},
   "source": [
    "# 上机作业"
   ]
  },
  {
   "cell_type": "markdown",
   "metadata": {},
   "source": [
    "## 习题1 17题"
   ]
  },
  {
   "cell_type": "markdown",
   "metadata": {},
   "source": [
    "设$S_N = \\sum_{j=2}^N\\frac{1}{j^2-1}$,其精确值为$\\frac{1}{2}(\\frac{3}{2}-\\frac{1}{N}-\\frac{1}{N+1})$。  \n",
    "(1).编制按从大到小的顺序$S_N = \\frac{1}{2^2-1}+\\frac{1}{3^2-1}+\\cdots+\\frac{1}{N^2-1}$，计算$S_N$的通用程序；  \n",
    "(2).编制按从小到大的顺序$S_N = \\frac{1}{N^2-1}+\\frac{1}{(N-1)^2-1}+\\cdots+\\frac{1}{2^2-1}$，计算$S_N$的通用程序；  \n",
    "(3).按两种顺序分别计算$S_{10^2},S_{10^4},S_{10^6}$，并指出有效位数(编制程序时用单精度)；  \n"
   ]
  },
  {
   "cell_type": "markdown",
   "metadata": {},
   "source": []
  },
  {
   "cell_type": "markdown",
   "metadata": {},
   "source": [
    "(4).通过本上机题你明白了什么?"
   ]
  },
  {
   "cell_type": "code",
   "execution_count": 3,
   "metadata": {
    "scrolled": false
   },
   "outputs": [],
   "source": [
    "def bts(n):\n",
    "    temp = 0\n",
    "    for i in range(2,n+1):\n",
    "        x = 1/(i*i-1)\n",
    "        temp += x\n",
    "    return temp"
   ]
  },
  {
   "cell_type": "code",
   "execution_count": 4,
   "metadata": {},
   "outputs": [],
   "source": [
    "def stb(n):\n",
    "    temp = 0\n",
    "    for i in range(n,1,-1):\n",
    "        x = 1/(i*i-1)\n",
    "        temp += x\n",
    "    return temp"
   ]
  },
  {
   "cell_type": "code",
   "execution_count": 5,
   "metadata": {},
   "outputs": [
    {
     "data": {
      "text/plain": [
       "0.7400495049504949"
      ]
     },
     "execution_count": 5,
     "metadata": {},
     "output_type": "execute_result"
    }
   ],
   "source": [
    "bts(10**2)"
   ]
  },
  {
   "cell_type": "code",
   "execution_count": 6,
   "metadata": {},
   "outputs": [
    {
     "data": {
      "text/plain": [
       "0.7400495049504949"
      ]
     },
     "execution_count": 6,
     "metadata": {},
     "output_type": "execute_result"
    }
   ],
   "source": [
    "stb(10**2)"
   ]
  },
  {
   "cell_type": "code",
   "execution_count": 7,
   "metadata": {},
   "outputs": [
    {
     "data": {
      "text/plain": [
       "0.7499000049995057"
      ]
     },
     "execution_count": 7,
     "metadata": {},
     "output_type": "execute_result"
    }
   ],
   "source": [
    "bts(10**4)"
   ]
  },
  {
   "cell_type": "code",
   "execution_count": 8,
   "metadata": {},
   "outputs": [
    {
     "data": {
      "text/plain": [
       "0.7499000049995"
      ]
     },
     "execution_count": 8,
     "metadata": {},
     "output_type": "execute_result"
    }
   ],
   "source": [
    "stb(10**4)"
   ]
  },
  {
   "cell_type": "code",
   "execution_count": 9,
   "metadata": {},
   "outputs": [
    {
     "data": {
      "text/plain": [
       "0.7499990000005217"
      ]
     },
     "execution_count": 9,
     "metadata": {},
     "output_type": "execute_result"
    }
   ],
   "source": [
    "bts(10**6)"
   ]
  },
  {
   "cell_type": "code",
   "execution_count": 10,
   "metadata": {},
   "outputs": [
    {
     "data": {
      "text/plain": [
       "0.7499990000004999"
      ]
     },
     "execution_count": 10,
     "metadata": {},
     "output_type": "execute_result"
    }
   ],
   "source": [
    "stb(10**6)"
   ]
  },
  {
   "cell_type": "code",
   "execution_count": 13,
   "metadata": {},
   "outputs": [],
   "source": [
    "def effective_number(N,model=0):\n",
    "    i = 0\n",
    "    if model == 0:\n",
    "        e = abs((1/2)*(3/2-1/N-1/(N+1))-bts(N))\n",
    "        while e < (0.5 * (0.1**i)):\n",
    "            i += 1\n",
    "        print(bts(N),'有效位数为：'+str(i-1)+'位',sep='，')\n",
    "    if model == 1:\n",
    "        e = abs((1/2)*(3/2-1/N-1/(N+1))-stb(N))\n",
    "        while e < (0.5 * (0.1**i)):\n",
    "            i += 1\n",
    "        print(stb(N),'有效位数为：'+str(i-1)+'位',sep='，')"
   ]
  },
  {
   "cell_type": "code",
   "execution_count": 14,
   "metadata": {},
   "outputs": [
    {
     "name": "stdout",
     "output_type": "stream",
     "text": [
      "0.7400495049504949，有效位数为：15位\n",
      "0.7499000049995057，有效位数为：13位\n",
      "0.7499990000005217，有效位数为：13位\n",
      "------------------------------------------\n",
      "0.7400495049504949，有效位数为：15位\n",
      "0.7499000049995，有效位数为：323位\n",
      "0.7499990000004999，有效位数为：15位\n"
     ]
    }
   ],
   "source": [
    "for i in [10**2,10**4,10**6]:\n",
    "    effective_number(i,model=0)\n",
    "print('------------------------------------------')\n",
    "for i in [10**2,10**4,10**6]:\n",
    "    effective_number(i,model=1)"
   ]
  },
  {
   "cell_type": "markdown",
   "metadata": {},
   "source": [
    "(4).综上所示，应用python编程事实上使用从小到大和从大到小区别不大，可能是因为没有特定限制为单精度浮点数，而从大到小的计算顺序会导致小数的后面几位有效数字被舍去产生误差。"
   ]
  },
  {
   "cell_type": "markdown",
   "metadata": {},
   "source": [
    "## 习题2 20题"
   ]
  },
  {
   "cell_type": "markdown",
   "metadata": {},
   "source": [
    "(1).给定初值$x_0$及容许误差$\\epsilon$,编制Newton法解方程 $f(x) = 0$ 根的通用程序。  \n",
    "(2).给定方程$ f(x) = x^3/3-x = 0$，易知其有三个根$x_{1}^{*} = -\\sqrt{3},x_{2}^{*} = 0,x_{3}^{*} = \\sqrt{3}$。  \n",
    "    1.由Newton方法的局部收敛性可知存在$\\delta>0$，当$x_0 \\in (-\\delta,\\delta)$时Newton迭代序列收敛于根$x_{2}^{*}$，试确定尽可能大的$\\delta$；  \n",
    "    2.试取若干初始值，观察当$x_0 \\in (-\\infty,-1),(-1,-\\delta),(-\\delta,\\delta),(\\delta,1),(1,+\\infty)$时Newton序列是否收敛以及收敛于哪一个根。  \n",
    "(3).通过本上机题，你明白了什么？"
   ]
  },
  {
   "cell_type": "code",
   "execution_count": 2,
   "metadata": {},
   "outputs": [],
   "source": [
    "from sympy import *\n",
    "x = Symbol(\"x\")"
   ]
  },
  {
   "cell_type": "code",
   "execution_count": 3,
   "metadata": {},
   "outputs": [],
   "source": [
    "def newton(x0,function=x**3/3-x,error_range=0.001):\n",
    "    actual_error = 1\n",
    "    while actual_error > error_range:\n",
    "        x1=float(x0-function.subs(x,x0)/lambdify(x,diff(function,x))(x0))\n",
    "        actual_error=abs(x0-x1)\n",
    "        x0=x1\n",
    "    return x0"
   ]
  },
  {
   "cell_type": "markdown",
   "metadata": {},
   "source": [
    "(2).首先需要规定一个迭代序列收敛于0的标准，由于另外两个根分别近似+1.7,-1.7，不妨规定当newton法得到的结果为0.1时即判定其收敛于0。\n",
    "其次我们需要让这个值尽可能大，先从0.1开始，让其按照步长为0.1递增直到newton法不收敛于0，然后将步长/10继续迭代，直到控制到我们想要的精度，由于python的精度限制，这里不妨取其为$10^{-3}$，据此设计程序。"
   ]
  },
  {
   "cell_type": "code",
   "execution_count": 7,
   "metadata": {},
   "outputs": [
    {
     "name": "stdout",
     "output_type": "stream",
     "text": [
      "0.7\n",
      "0.77\n",
      "0.774\n",
      "(-0.774, 0.774)\n",
      "finished\n"
     ]
    }
   ],
   "source": [
    "max_range = 0.1\n",
    "x0 = 0.1\n",
    "ans=0\n",
    "step=0.1\n",
    "while step != 0.0001:\n",
    "    while newton(x0+max_range)<0.1:\n",
    "        max_range+=step\n",
    "    max_range-=step\n",
    "    ans=(x0+max_range)\n",
    "    print(ans)\n",
    "    step/=10\n",
    "print((-ans,ans))\n",
    "print('finished')    "
   ]
  },
  {
   "cell_type": "code",
   "execution_count": 8,
   "metadata": {},
   "outputs": [
    {
     "name": "stdout",
     "output_type": "stream",
     "text": [
      "-1.7320508075743515\n",
      "-1.7320508082783812\n",
      "5.292219476234553e-10\n",
      "-1.7320508359512365\n",
      "1.7320508076683288\n"
     ]
    }
   ],
   "source": [
    "print(newton(-2),newton(-0.8),newton(-0.5),newton(0.89),newton(200),sep='\\n')"
   ]
  },
  {
   "cell_type": "markdown",
   "metadata": {},
   "source": [
    "(3).牛顿迭代法如果选取正确的初始值可以很快地收敛，但是如果选择的初始值不太理想效率也不理想，但是最终也会收敛到正确的值。"
   ]
  },
  {
   "cell_type": "markdown",
   "metadata": {},
   "source": [
    "## 习题3 40题\n",
    "对于某电路的分析，归结为求解线性方程组 $ RI = V$,其中  \n",
    "$$\n",
    "R=\n",
    "\\begin{pmatrix}\n",
    "31 & -13 & 0 & 0 & 0 & -10 & 0 & 0 & 0 \\\\\n",
    "-13 & 35 & -9 & 0 & -11 & 0 & 0 & 0 & 0 \\\\\n",
    "0 & -9 & 31 & -10 & 0 & 0 & 0 & 0 & 0 \\\\\n",
    "0 & 0 & -10 & 79 & -30 & 0 & 0 & 0 & -9 \\\\\n",
    "0 & 0 & 0 & -30 & 57 & -7 & 0 & -5 & 0 \\\\\n",
    "0 & 0 & 0 & 0 & -7 & 47 & -30 & 0 & 0 \\\\\n",
    "0 & 0 & 0 & 0 & 0 & -30 & 41 & 0 & 0 \\\\\n",
    "0 & 0 & 0 & 0 & -5 & 0 & 0 & 27 & -2 \\\\\n",
    "0 & 0 & 0 & -9 & 0 & 0 & 0 & -2 & 29 \\\\\n",
    "\\end{pmatrix}\n",
    "$$\n",
    "\n",
    "$$\n",
    "    V^T = (-15,27,-23,0,-20,12,-7,7,10)^T\n",
    "$$\n",
    "\n",
    "(1).编制解n阶线性方程组 $Ax = b$ 的列主元Gauss消去法的通用程序；    \n",
    "(2).用所编程序解线性方程组 $RI = V$，并打印出解向量，保留5位有效数字；  \n",
    "(3).本题编程之中，你提高了哪些编程能力？"
   ]
  },
  {
   "cell_type": "code",
   "execution_count": 39,
   "metadata": {},
   "outputs": [
    {
     "name": "stdout",
     "output_type": "stream",
     "text": [
      "[-0.30646, 0.31462, -0.74943, -0.30638, -0.47814, 0.14097, -0.06758, 0.19019, 0.26286]\n"
     ]
    }
   ],
   "source": [
    "import numpy as np\n",
    "def Gauss(a,b):\n",
    "    augmented = np.hstack((a,b))\n",
    "    row = a.shape[0]\n",
    "    column = augmented.shape[1]\n",
    "    ans = []\n",
    "\n",
    "    for i in range(0,row):\n",
    "        max_num = abs(a[i,i])\n",
    "        row_num = i\n",
    "        for j in range(i+1,row):\n",
    "            if(abs(augmented[j,i]) > max_num):\n",
    "                max_num = abs(augmented[j,i])\n",
    "                row_num = j\n",
    "\n",
    "        temp = np.copy(augmented[row_num])\n",
    "        augmented[row_num,:] = augmented[i,:]\n",
    "        augmented[i,:]=temp\n",
    "\n",
    "        for j in range(i+1,row):\n",
    "            mul = augmented[j,i]/augmented[i,i]\n",
    "            augmented[j,:] = augmented[j,:]-mul*augmented[i,:]\n",
    "\n",
    "    for i in range(row-1,-1,-1):\n",
    "        for j in range(i-1,-1,-1):\n",
    "            mul = augmented[j,i]/augmented[i,i]\n",
    "            augmented[j,:] = augmented[j,:]-mul*augmented[i,:]\n",
    "            augmented[j,i] = 0\n",
    "\n",
    "    for i in range(0,row):\n",
    "        ans.append(round(augmented[i,column-1]/augmented[i,i],5))\n",
    "    print(ans)\n",
    "    \n",
    "a=np.array([[31.0,-13.0,0,0,0,-10.0,0,0,0],[-13.0,35.0,-9.0,0,-11.0,0,0,0,0],[0,-9.0,31.0,-10.0,0,0,0,0,0],[0,0,-10.0,79.0,-30.0,0,0,0,9.0],[0,0,0,-30.0,57.0,-7.0,0,-5.0,0],[0,0,0,0,-7.0,47.0,-30.0,0,0],[0,0,0,0,0,-30.0,41.0,0,0],[0,0,0,0,-5.0,0,0,27.0,-2.0],[0,0,0,-9.0,0,0,0,-2.0,29.0]])\n",
    "b=np.array([[-15.0],[27.0],[-23.0],[0],[-20.0],[12.0],[-7.0],[7.0],[10.0]])\n",
    "Gauss(a,b)    \n"
   ]
  },
  {
   "cell_type": "markdown",
   "metadata": {},
   "source": [
    "如上代码所示，Gauss为输入为(a,b)的函数，首先将a,b合成增广矩阵augmented，记录行数列数row和column然后按照列主元Gause消去法的思路，在迭代每一列的消去时，首先将augmented[i,i]及其下方绝对值最大的值和行数均记录下来再进行交换，然后augmented[i]这一行为基准对其下方进行消去，为了方便起见，在进行完这一步后用类似的方法直接把矩阵化为对角阵来进行计算，此时显然$$x_{i} = \\frac{augmented[i,column-1]}{augmented[i,i]}$$  \n",
    "即可得到其解向量，按题意将其保留5位有效数字。\n",
    "(1)(2)的实现如上所示。  \n",
    "(3).提高了对python，numpy矩阵操作的熟练度，同时对这种思维深度不是很深但是代码比较繁琐的程序设计和查错的能力提升了。"
   ]
  }
 ],
 "metadata": {
  "interpreter": {
   "hash": "130282db19fb5fd2f4656fbd13aef045a28a50e84ee72c20fe07dbd287f9b09e"
  },
  "kernelspec": {
   "display_name": "Python 3.8.5 64-bit ('yolov5': conda)",
   "name": "python3"
  },
  "language_info": {
   "codemirror_mode": {
    "name": "ipython",
    "version": 3
   },
   "file_extension": ".py",
   "mimetype": "text/x-python",
   "name": "python",
   "nbconvert_exporter": "python",
   "pygments_lexer": "ipython3",
   "version": "3.8.5"
  }
 },
 "nbformat": 4,
 "nbformat_minor": 4
}
