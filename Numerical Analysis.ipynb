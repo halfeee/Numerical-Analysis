{
 "cells": [
  {
   "cell_type": "markdown",
   "metadata": {},
   "source": [
    "# 上机作业"
   ]
  },
  {
   "cell_type": "markdown",
   "metadata": {},
   "source": [
    "## 习题1 17题"
   ]
  },
  {
   "cell_type": "code",
   "execution_count": 3,
   "metadata": {
    "scrolled": false
   },
   "outputs": [],
   "source": [
    "def bts(n):\n",
    "    temp = 0\n",
    "    for i in range(2,n+1):\n",
    "        x = 1/(i*i-1)\n",
    "        temp += x\n",
    "    return temp"
   ]
  },
  {
   "cell_type": "code",
   "execution_count": 4,
   "metadata": {},
   "outputs": [],
   "source": [
    "def stb(n):\n",
    "    temp = 0\n",
    "    for i in range(n,1,-1):\n",
    "        x = 1/(i*i-1)\n",
    "        temp += x\n",
    "    return temp"
   ]
  },
  {
   "cell_type": "code",
   "execution_count": 5,
   "metadata": {},
   "outputs": [
    {
     "data": {
      "text/plain": [
       "0.7400495049504949"
      ]
     },
     "execution_count": 5,
     "metadata": {},
     "output_type": "execute_result"
    }
   ],
   "source": [
    "bts(10**2)"
   ]
  },
  {
   "cell_type": "code",
   "execution_count": 6,
   "metadata": {},
   "outputs": [
    {
     "data": {
      "text/plain": [
       "0.7400495049504949"
      ]
     },
     "execution_count": 6,
     "metadata": {},
     "output_type": "execute_result"
    }
   ],
   "source": [
    "stb(10**2)"
   ]
  },
  {
   "cell_type": "code",
   "execution_count": 7,
   "metadata": {},
   "outputs": [
    {
     "data": {
      "text/plain": [
       "0.7499000049995057"
      ]
     },
     "execution_count": 7,
     "metadata": {},
     "output_type": "execute_result"
    }
   ],
   "source": [
    "bts(10**4)"
   ]
  },
  {
   "cell_type": "code",
   "execution_count": 8,
   "metadata": {},
   "outputs": [
    {
     "data": {
      "text/plain": [
       "0.7499000049995"
      ]
     },
     "execution_count": 8,
     "metadata": {},
     "output_type": "execute_result"
    }
   ],
   "source": [
    "stb(10**4)"
   ]
  },
  {
   "cell_type": "code",
   "execution_count": 9,
   "metadata": {},
   "outputs": [
    {
     "data": {
      "text/plain": [
       "0.7499990000005217"
      ]
     },
     "execution_count": 9,
     "metadata": {},
     "output_type": "execute_result"
    }
   ],
   "source": [
    "bts(10**6)"
   ]
  },
  {
   "cell_type": "code",
   "execution_count": 10,
   "metadata": {},
   "outputs": [
    {
     "data": {
      "text/plain": [
       "0.7499990000004999"
      ]
     },
     "execution_count": 10,
     "metadata": {},
     "output_type": "execute_result"
    }
   ],
   "source": [
    "stb(10**6)"
   ]
  },
  {
   "cell_type": "code",
   "execution_count": 13,
   "metadata": {},
   "outputs": [],
   "source": [
    "def effective_number(N,model=0):\n",
    "    i = 0\n",
    "    if model == 0:\n",
    "        e = abs((1/2)*(3/2-1/N-1/(N+1))-bts(N))\n",
    "        while e < (0.5 * (0.1**i)):\n",
    "            i += 1\n",
    "        print(bts(N),'有效位数为：'+str(i-1)+'位',sep='，')\n",
    "    if model == 1:\n",
    "        e = abs((1/2)*(3/2-1/N-1/(N+1))-stb(N))\n",
    "        while e < (0.5 * (0.1**i)):\n",
    "            i += 1\n",
    "        print(stb(N),'有效位数为：'+str(i-1)+'位',sep='，')"
   ]
  },
  {
   "cell_type": "code",
   "execution_count": 14,
   "metadata": {},
   "outputs": [
    {
     "name": "stdout",
     "output_type": "stream",
     "text": [
      "0.7400495049504949，有效位数为：15位\n",
      "0.7499000049995057，有效位数为：13位\n",
      "0.7499990000005217，有效位数为：13位\n",
      "------------------------------------------\n",
      "0.7400495049504949，有效位数为：15位\n",
      "0.7499000049995，有效位数为：323位\n",
      "0.7499990000004999，有效位数为：15位\n"
     ]
    }
   ],
   "source": [
    "for i in [10**2,10**4,10**6]:\n",
    "    effective_number(i,model=0)\n",
    "print('------------------------------------------')\n",
    "for i in [10**2,10**4,10**6]:\n",
    "    effective_number(i,model=1)"
   ]
  },
  {
   "cell_type": "markdown",
   "metadata": {},
   "source": [
    "(4).综上所示，应用python编程事实上使用从小到大和从大到小区别不大，可能是因为没有特定限制为单精度浮点数，而从大到小的计算顺序会导致小数的后面几位有效数字被舍去产生误差。"
   ]
  },
  {
   "cell_type": "markdown",
   "metadata": {},
   "source": [
    "## 习题2 20题"
   ]
  },
  {
   "cell_type": "code",
   "execution_count": 8,
   "metadata": {},
   "outputs": [],
   "source": [
    "from sympy import *\n",
    "x = Symbol(\"x\")"
   ]
  },
  {
   "cell_type": "code",
   "execution_count": 9,
   "metadata": {},
   "outputs": [],
   "source": [
    "def newton(x0,function=x**3/3-x,error_range=0.001):\n",
    "    actual_error = 1\n",
    "    while actual_error > error_range:\n",
    "        x1=float(x0-function.subs(x,x0)/lambdify(x,diff(function,x))(x0))\n",
    "        actual_error=abs(x0-x1)\n",
    "        x0=x1\n",
    "    return x0"
   ]
  },
  {
   "cell_type": "markdown",
   "metadata": {},
   "source": [
    "(2).首先需要规定一个迭代序列收敛于0的标准，由于另外两个根分别近似+1.7,-1.7，不妨规定当newton法得到的结果为0.1时即判定其收敛于0。\n",
    "其次我们需要让这个值尽可能大，先从0.1开始，让其按照步长为0.1递增直到newton法不收敛于0，然后将步长/10继续迭代，直到控制到我们想要的精度，由于python的精度限制，这里不妨取其为10^-3，据此设计程序。"
   ]
  },
  {
   "cell_type": "code",
   "execution_count": 22,
   "metadata": {},
   "outputs": [
    {
     "name": "stdout",
     "output_type": "stream",
     "text": [
      "0.7\n",
      "0.77\n",
      "0.774\n",
      "(-0.774, 0.774)\n",
      "finished\n"
     ]
    }
   ],
   "source": [
    "max_range = 0.1\n",
    "x0 = 0.1\n",
    "ans=0\n",
    "step=0.1\n",
    "while step != 0.0001:\n",
    "    while newton(x0+max_range)<0.1:\n",
    "        max_range+=step\n",
    "    max_range-=step\n",
    "    ans=(x0+max_range)\n",
    "    print(ans)\n",
    "    step/=10\n",
    "print((-ans,ans))\n",
    "print('finished')    "
   ]
  },
  {
   "cell_type": "code",
   "execution_count": 32,
   "metadata": {},
   "outputs": [
    {
     "name": "stdout",
     "output_type": "stream",
     "text": [
      "-1.7320508075743515\n",
      "-1.7320508082783812\n",
      "5.292219476234553e-10\n",
      "-1.7320508359512365\n",
      "1.7320508076683288\n"
     ]
    }
   ],
   "source": [
    "print(newton(-2),newton(-0.8),newton(-0.5),newton(0.89),newton(200),sep='\\n')"
   ]
  },
  {
   "cell_type": "markdown",
   "metadata": {},
   "source": [
    "(3).牛顿迭代法如果选取正确的初始值可以很快地收敛，但是如果选择的初始值不太理想效率也不理想，但是最终也会收敛到正确的值。"
   ]
  },
  {
   "cell_type": "markdown",
   "metadata": {},
   "source": [
    "## 习题3 39题"
   ]
  },
  {
   "cell_type": "code",
   "execution_count": null,
   "metadata": {},
   "outputs": [],
   "source": []
  },
  {
   "cell_type": "code",
   "execution_count": null,
   "metadata": {},
   "outputs": [],
   "source": []
  },
  {
   "cell_type": "code",
   "execution_count": null,
   "metadata": {},
   "outputs": [],
   "source": []
  },
  {
   "cell_type": "code",
   "execution_count": null,
   "metadata": {},
   "outputs": [],
   "source": []
  }
 ],
 "metadata": {
  "kernelspec": {
   "display_name": "Python 3",
   "language": "python",
   "name": "python3"
  },
  "language_info": {
   "codemirror_mode": {
    "name": "ipython",
    "version": 3
   },
   "file_extension": ".py",
   "mimetype": "text/x-python",
   "name": "python",
   "nbconvert_exporter": "python",
   "pygments_lexer": "ipython3",
   "version": "3.8.5"
  }
 },
 "nbformat": 4,
 "nbformat_minor": 4
}
